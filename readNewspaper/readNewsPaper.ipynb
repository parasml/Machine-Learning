{
 "cells": [
  {
   "cell_type": "code",
   "execution_count": 1,
   "metadata": {},
   "outputs": [
    {
     "data": {
      "text/plain": [
       "'3.4.2'"
      ]
     },
     "execution_count": 1,
     "metadata": {},
     "output_type": "execute_result"
    }
   ],
   "source": [
    "import cv2\n",
    "cv2.__version__"
   ]
  },
  {
   "cell_type": "code",
   "execution_count": 2,
   "metadata": {},
   "outputs": [],
   "source": [
    "import numpy as np\n",
    "import matplotlib.pyplot as plt"
   ]
  },
  {
   "cell_type": "code",
   "execution_count": 3,
   "metadata": {},
   "outputs": [],
   "source": [
    "# Recognise text with tesseract\n",
    "#---------------------------------\n",
    "import pytesseract\n",
    "\n",
    "pytesseract.pytesseract.tesseract_cmd = 'C:\\\\Program Files (x86)\\\\Tesseract-OCR\\\\tesseract'\n",
    "\n",
    "from PIL import Image\n",
    "\n",
    "#txt = pytesseract.image_to_string(img, lang=\"eng\")\n",
    "tessdata_dir_config = r'--tessdata-dir \"C:\\\\Program Files (x86)\\\\Tesseract-OCR\\\\tessdata\"'"
   ]
  },
  {
   "cell_type": "code",
   "execution_count": 4,
   "metadata": {},
   "outputs": [],
   "source": [
    "#Image Reading and loading it to Grey scale\n",
    "#-------------------------------------------\n",
    "\n",
    "#cv2.IMREAD_GRAYSCALE = 0\n",
    "\n",
    "imgPath = \"C:/MachineLearning/RD/Demo/Newspaper/Section1/\"\n",
    "\n",
    "img = cv2.imread(imgPath + 'Newspaper_1.jpg', cv2.IMREAD_GRAYSCALE)\n"
   ]
  },
  {
   "cell_type": "code",
   "execution_count": 5,
   "metadata": {},
   "outputs": [],
   "source": [
    "# Apply dilation and erosion to remove some noise\n",
    "#-------------------------------------------------\n",
    "kernel = np.ones((1,1), np.uint8)\n",
    "img = cv2.dilate(img, kernel, iterations=1)\n",
    "img = cv2.erode(img, kernel, iterations=1)"
   ]
  },
  {
   "cell_type": "code",
   "execution_count": 6,
   "metadata": {},
   "outputs": [
    {
     "data": {
      "text/plain": [
       "True"
      ]
     },
     "execution_count": 6,
     "metadata": {},
     "output_type": "execute_result"
    }
   ],
   "source": [
    "#To save the clean Image\n",
    "#---------------------------\n",
    "cv2.imwrite(imgPath + 'grayScale.jpg', img)"
   ]
  },
  {
   "cell_type": "code",
   "execution_count": 7,
   "metadata": {},
   "outputs": [
    {
     "data": {
      "text/plain": [
       "True"
      ]
     },
     "execution_count": 7,
     "metadata": {},
     "output_type": "execute_result"
    }
   ],
   "source": [
    "#Apply threshold to get image with only black and white\n",
    "#----------------------------\n",
    "\n",
    "img = cv2.adaptiveThreshold(img, 255, cv2.ADAPTIVE_THRESH_GAUSSIAN_C, cv2.THRESH_BINARY, 11, 2)\n",
    "\n",
    "cv2.imwrite(imgPath + 'blackWhite.jpg', img)\n"
   ]
  },
  {
   "cell_type": "code",
   "execution_count": 8,
   "metadata": {},
   "outputs": [
    {
     "name": "stdout",
     "output_type": "stream",
     "text": [
      "txt Centre may\n",
      "partially lift\n",
      "AFSPA\n",
      "\n",
      "SPECIAL CORRESPONDENT\n",
      "NEW DELHI\n",
      "\n",
      "The Centre is considering\n",
      "partial removal of the\n",
      "Armed Forces (Special\n",
      "Powers) Act from Assam\n",
      "and Arunachal Pradesh, a\n",
      "senior Home Ministry offi-\n",
      "cial said.\n",
      "\n",
      "The Ministry has asked\n",
      "the two BJP-ruled States for\n",
      "their views on AFSPA with-\n",
      "drawal and said that it was\n",
      "open to reviewing the\n",
      "stringent law in other\n",
      "States like Manipur.\n",
      "\n",
      "\"We are waiting for the\n",
      "State governments' com-\n",
      "ments and will take the fi-\n",
      "nal decision once they\n",
      "reply. ,\" Kiren Rijiju, Minis-\n",
      "ter of State for Home told\n",
      "The Hindu.\n"
     ]
    }
   ],
   "source": [
    "#txt = pytesseract.image_to_string(Image.open('E:/Prashan/Work/machine_learning/RD/Newspaper/Images/The hindu/1_grayScale.jpg'), lang='eng', config=tessdata_dir_config)\n",
    "txt = pytesseract.image_to_string(Image.open(imgPath + 'grayScale.jpg'), lang='eng', config=tessdata_dir_config)\n",
    "#txt = pytesseract.image_to_string(Image.open('C:/MachineLearning/RD/Demo/Newspaper/1_blackWhite.jpg'), lang='eng', config=tessdata_dir_config)\n",
    "\n",
    "\n",
    "\n",
    "print(\"txt\", txt)\n",
    "\n",
    "\n",
    "f = open(imgPath + 'output.txt','w')\n",
    "f.write(txt)\n",
    "f.close()"
   ]
  },
  {
   "cell_type": "code",
   "execution_count": null,
   "metadata": {},
   "outputs": [],
   "source": []
  },
  {
   "cell_type": "code",
   "execution_count": null,
   "metadata": {},
   "outputs": [],
   "source": []
  },
  {
   "cell_type": "code",
   "execution_count": null,
   "metadata": {},
   "outputs": [],
   "source": []
  },
  {
   "cell_type": "code",
   "execution_count": null,
   "metadata": {},
   "outputs": [],
   "source": []
  },
  {
   "cell_type": "code",
   "execution_count": null,
   "metadata": {},
   "outputs": [],
   "source": []
  }
 ],
 "metadata": {
  "kernelspec": {
   "display_name": "Python 3",
   "language": "python",
   "name": "python3"
  },
  "language_info": {
   "codemirror_mode": {
    "name": "ipython",
    "version": 3
   },
   "file_extension": ".py",
   "mimetype": "text/x-python",
   "name": "python",
   "nbconvert_exporter": "python",
   "pygments_lexer": "ipython3",
   "version": "3.6.5"
  }
 },
 "nbformat": 4,
 "nbformat_minor": 2
}
