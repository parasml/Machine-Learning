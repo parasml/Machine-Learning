{
 "cells": [
  {
   "cell_type": "code",
   "execution_count": 27,
   "metadata": {},
   "outputs": [
    {
     "data": {
      "text/plain": [
       "'3.4.2'"
      ]
     },
     "execution_count": 27,
     "metadata": {},
     "output_type": "execute_result"
    }
   ],
   "source": [
    "import cv2\n",
    "cv2.__version__"
   ]
  },
  {
   "cell_type": "code",
   "execution_count": 28,
   "metadata": {},
   "outputs": [],
   "source": [
    "import numpy as np\n",
    "import matplotlib.pyplot as plt"
   ]
  },
  {
   "cell_type": "code",
   "execution_count": 29,
   "metadata": {},
   "outputs": [],
   "source": [
    "# Recognise text with tesseract\n",
    "#---------------------------------\n",
    "import pytesseract\n",
    "\n",
    "pytesseract.pytesseract.tesseract_cmd = 'C:\\\\Program Files (x86)\\\\Tesseract-OCR\\\\tesseract'\n",
    "\n",
    "from PIL import Image\n",
    "\n",
    "#txt = pytesseract.image_to_string(img, lang=\"eng\")\n",
    "tessdata_dir_config = r'--tessdata-dir \"C:\\\\Program Files (x86)\\\\Tesseract-OCR\\\\tessdata\"'"
   ]
  },
  {
   "cell_type": "code",
   "execution_count": 30,
   "metadata": {},
   "outputs": [],
   "source": [
    "#Image Reading and loading it to Grey scale\n",
    "#-------------------------------------------\n",
    "\n",
    "#cv2.IMREAD_GRAYSCALE = 0\n",
    "\n",
    "img_Path = 'C:/MachineLearning/RD/Demo/Newspaper/Setion8-Hindi/'\n",
    "\n",
    "\n",
    "img = cv2.imread(img_Path + 'Newspaper_8.jpg', cv2.IMREAD_GRAYSCALE)\n"
   ]
  },
  {
   "cell_type": "code",
   "execution_count": 31,
   "metadata": {},
   "outputs": [],
   "source": [
    "# Apply dilation and erosion to remove some noise\n",
    "#-------------------------------------------------\n",
    "kernel = np.ones((1,1), np.uint8)\n",
    "img = cv2.dilate(img, kernel, iterations=1)\n",
    "img = cv2.erode(img, kernel, iterations=1)"
   ]
  },
  {
   "cell_type": "code",
   "execution_count": 32,
   "metadata": {},
   "outputs": [
    {
     "data": {
      "text/plain": [
       "True"
      ]
     },
     "execution_count": 32,
     "metadata": {},
     "output_type": "execute_result"
    }
   ],
   "source": [
    "#To save the clean Image\n",
    "#---------------------------\n",
    "cv2.imwrite(img_Path + 'grayScale.jpg', img)"
   ]
  },
  {
   "cell_type": "code",
   "execution_count": 33,
   "metadata": {},
   "outputs": [
    {
     "data": {
      "text/plain": [
       "True"
      ]
     },
     "execution_count": 33,
     "metadata": {},
     "output_type": "execute_result"
    }
   ],
   "source": [
    "#Apply threshold to get image with only black and white\n",
    "#----------------------------\n",
    "\n",
    "img = cv2.adaptiveThreshold(img, 255, cv2.ADAPTIVE_THRESH_GAUSSIAN_C, cv2.THRESH_BINARY, 11, 2)\n",
    "\n",
    "cv2.imwrite(img_Path + 'blackWhite.jpg', img)\n"
   ]
  },
  {
   "cell_type": "code",
   "execution_count": 36,
   "metadata": {},
   "outputs": [
    {
     "name": "stdout",
     "output_type": "stream",
     "text": [
      "txt अआइईउऊएऐओओऔओऊऋ\n",
      "क खगचधडइहडचखछुजझजटठ\n",
      "डढणतथदधनपफबभम\n",
      "\n",
      "यरलवशपषसह &«\n"
     ]
    }
   ],
   "source": [
    "#txt = pytesseract.image_to_string(Image.open('E:/Prashan/Work/machine_learning/RD/Newspaper/Images/The hindu/1_grayScale.jpg'), lang='eng', config=tessdata_dir_config)\n",
    "#txt = pytesseract.image_to_string(Image.open(img_Path + 'grayScale.jpg'), lang='hin', config=tessdata_dir_config)\n",
    "txt = pytesseract.image_to_string(Image.open(img_Path + 'maxresdefault.jpg'), lang='hin', config=tessdata_dir_config)\n",
    "\n",
    "\n",
    "print(\"txt\", txt)\n",
    "\n",
    "\n",
    "f = open(img_Path + 'output_1.txt','w', encoding=\"utf-8\")\n",
    "f.write(txt)\n",
    "f.close()"
   ]
  },
  {
   "cell_type": "code",
   "execution_count": 21,
   "metadata": {},
   "outputs": [],
   "source": []
  },
  {
   "cell_type": "code",
   "execution_count": null,
   "metadata": {},
   "outputs": [],
   "source": []
  },
  {
   "cell_type": "code",
   "execution_count": null,
   "metadata": {},
   "outputs": [],
   "source": []
  }
 ],
 "metadata": {
  "kernelspec": {
   "display_name": "Python 3",
   "language": "python",
   "name": "python3"
  },
  "language_info": {
   "codemirror_mode": {
    "name": "ipython",
    "version": 3
   },
   "file_extension": ".py",
   "mimetype": "text/x-python",
   "name": "python",
   "nbconvert_exporter": "python",
   "pygments_lexer": "ipython3",
   "version": "3.6.5"
  }
 },
 "nbformat": 4,
 "nbformat_minor": 2
}
