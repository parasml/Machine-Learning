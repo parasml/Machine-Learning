{
 "cells": [
  {
   "cell_type": "code",
   "execution_count": 1,
   "metadata": {},
   "outputs": [
    {
     "data": {
      "text/plain": [
       "'3.4.2'"
      ]
     },
     "execution_count": 1,
     "metadata": {},
     "output_type": "execute_result"
    }
   ],
   "source": [
    "import cv2\n",
    "cv2.__version__"
   ]
  },
  {
   "cell_type": "code",
   "execution_count": 2,
   "metadata": {},
   "outputs": [],
   "source": [
    "import numpy as np\n",
    "import matplotlib.pyplot as plt"
   ]
  },
  {
   "cell_type": "code",
   "execution_count": 3,
   "metadata": {},
   "outputs": [],
   "source": [
    "# Recognise text with tesseract\n",
    "#---------------------------------\n",
    "import pytesseract\n",
    "\n",
    "pytesseract.pytesseract.tesseract_cmd = 'C:\\\\Program Files (x86)\\\\Tesseract-OCR\\\\tesseract'\n",
    "\n",
    "from PIL import Image\n",
    "\n",
    "#txt = pytesseract.image_to_string(img, lang=\"eng\")\n",
    "tessdata_dir_config = r'--tessdata-dir \"C:\\\\Program Files (x86)\\\\Tesseract-OCR\\\\tessdata\"'"
   ]
  },
  {
   "cell_type": "code",
   "execution_count": 4,
   "metadata": {},
   "outputs": [],
   "source": [
    "#Image Reading and loading it to Grey scale\n",
    "#-------------------------------------------\n",
    "\n",
    "#cv2.IMREAD_GRAYSCALE = 0\n",
    "\n",
    "img_Path = 'C:/MachineLearning/RD/Demo/Newspaper/Section2/'\n",
    "\n",
    "img = cv2.imread(img_Path + 'Newspaper_2.jpg', cv2.IMREAD_GRAYSCALE)\n"
   ]
  },
  {
   "cell_type": "code",
   "execution_count": 5,
   "metadata": {},
   "outputs": [],
   "source": [
    "# Apply dilation and erosion to remove some noise\n",
    "#-------------------------------------------------\n",
    "kernel = np.ones((1,1), np.uint8)\n",
    "img = cv2.dilate(img, kernel, iterations=1)\n",
    "img = cv2.erode(img, kernel, iterations=1)"
   ]
  },
  {
   "cell_type": "code",
   "execution_count": 6,
   "metadata": {},
   "outputs": [
    {
     "data": {
      "text/plain": [
       "True"
      ]
     },
     "execution_count": 6,
     "metadata": {},
     "output_type": "execute_result"
    }
   ],
   "source": [
    "#To save the clean Image\n",
    "#---------------------------\n",
    "cv2.imwrite(img_Path + 'grayScale.jpg', img)"
   ]
  },
  {
   "cell_type": "code",
   "execution_count": 7,
   "metadata": {},
   "outputs": [
    {
     "data": {
      "text/plain": [
       "True"
      ]
     },
     "execution_count": 7,
     "metadata": {},
     "output_type": "execute_result"
    }
   ],
   "source": [
    "#Apply threshold to get image with only black and white\n",
    "#----------------------------\n",
    "\n",
    "img = cv2.adaptiveThreshold(img, 255, cv2.ADAPTIVE_THRESH_GAUSSIAN_C, cv2.THRESH_BINARY, 11, 2)\n",
    "\n",
    "cv2.imwrite(img_Path + 'blackWhite.jpg', img)\n"
   ]
  },
  {
   "cell_type": "code",
   "execution_count": 12,
   "metadata": {},
   "outputs": [
    {
     "name": "stdout",
     "output_type": "stream",
     "text": [
      "txt Allow deposit of old\n",
      "notes, SC tells Centre\n",
      "\n",
      "\"It is harsh if you close all options\"\n",
      "\n",
      "KRISHNADAS RAJAGOPAL\n",
      "NEW DELHI\n",
      "\n",
      "Cautioning the government\n",
      "against depriving genuine\n",
      "persons of - their - hard-\n",
      "earned money and prop-\n",
      "erty, the Supreme Court on\n",
      "Tuesday said the Centre\n",
      "cannot close all options for\n",
      "such persons.\n",
      "\n",
      "It should open a window\n",
      "for them to approach the\n",
      "authorities to prove that it is\n",
      "their money, the court said.\n",
      "\n",
      "\"It is harsh if you close all\n",
      "options for genuine persons\n",
      "who were unable to deposit\n",
      "their [demonetised] notes\n",
      "within _ the _ stipulated\n",
      "period,\" a Bench of Chief\n",
      "Justice of India J.S. Khehar\n",
      "and D.Y. Chandrachud told\n",
      "the government, represen-\n",
      "ted by - Solicitor-General\n",
      "Ranjit Kumar. \"If I am ter-\n",
      "minally ill and could not de-\n",
      "posit my money, I should be\n",
      "given an opportunity now to\n",
      "approach you and establish\n",
      "my facts and prove that it is\n",
      "my money... You can't just\n",
      "deprive me of my money be-\n",
      "cause I am terminally ill,\"\n",
      "\n",
      " \n",
      "\n",
      "CT\n",
      "\n",
      " \n",
      "\n",
      "People need a chance\n",
      "to prove that it is their\n",
      "money, the court has said.\n",
      "\n",
      "Justice Khehar said, ad-\n",
      "dressing Mr. Kumar.\n",
      "\n",
      "\"You are taking away my\n",
      "money because I am termin-\n",
      "ally ill? Citizens are facing\n",
      "problems and you are there\n",
      "to solve them. If not, serious\n",
      "problems will arise,\" Chief\n",
      "Justice Khehar orally ob-\n",
      "served.\n",
      "\n",
      "Affidavit filed\n",
      "\n",
      "Mr. Kumar said the govern-\n",
      "ment had already filed an af-\n",
      "fidavit explaining why the\n",
      "period to deposit demonet-\n",
      "ised notes was restricted.\n",
      "CONTINUED ON > PAGE 10\n"
     ]
    }
   ],
   "source": [
    "#txt = pytesseract.image_to_string(Image.open('E:/Prashan/Work/machine_learning/RD/Newspaper/Images/The hindu/1_grayScale.jpg'), lang='eng', config=tessdata_dir_config)\n",
    "txt = pytesseract.image_to_string(Image.open(img_Path + 'grayScale.jpg'), lang='eng', config=tessdata_dir_config)\n",
    "#txt = pytesseract.image_to_string(Image.open('C:/MachineLearning/RD/Demo/Newspaper/1_blackWhite.jpg'), lang='eng', config=tessdata_dir_config)\n",
    "\n",
    "\n",
    "\n",
    "print(\"txt\", txt)\n",
    "\n",
    "\n",
    "f = open(img_Path + 'output.txt','w')\n",
    "f.write(txt)\n",
    "f.close()"
   ]
  },
  {
   "cell_type": "code",
   "execution_count": null,
   "metadata": {},
   "outputs": [],
   "source": []
  },
  {
   "cell_type": "code",
   "execution_count": null,
   "metadata": {},
   "outputs": [],
   "source": []
  },
  {
   "cell_type": "code",
   "execution_count": null,
   "metadata": {},
   "outputs": [],
   "source": []
  },
  {
   "cell_type": "code",
   "execution_count": null,
   "metadata": {},
   "outputs": [],
   "source": []
  },
  {
   "cell_type": "code",
   "execution_count": null,
   "metadata": {},
   "outputs": [],
   "source": []
  }
 ],
 "metadata": {
  "kernelspec": {
   "display_name": "Python 3",
   "language": "python",
   "name": "python3"
  },
  "language_info": {
   "codemirror_mode": {
    "name": "ipython",
    "version": 3
   },
   "file_extension": ".py",
   "mimetype": "text/x-python",
   "name": "python",
   "nbconvert_exporter": "python",
   "pygments_lexer": "ipython3",
   "version": "3.6.5"
  }
 },
 "nbformat": 4,
 "nbformat_minor": 2
}
